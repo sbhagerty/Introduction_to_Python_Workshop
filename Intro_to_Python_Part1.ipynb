{
 "cells": [
  {
   "cell_type": "markdown",
   "metadata": {},
   "source": [
    "<center><h1> Introduction to Python </center>\n",
    "<center><h3> Part 1: Variables, Data Types, Lists, & For Loops </center>"
   ]
  },
  {
   "cell_type": "markdown",
   "metadata": {},
   "source": [
    "#### What and Why of Python?\n",
    "\n",
    "Python is one of the most popular programming languages.  Because it is so popular a lot of the tasks you'll want to do already have code written and  ready for you to use (we call these collections of code, libraries). There are libraries for image analysis, building machine learning models, graphing, and scientific programming.  \n",
    "\n",
    "Python is considered one of the best languages to learn if you're totally new to programming. Its also used to do really advanced computing, python is used by Google, Netflix,Spotify, Instagram, Facebook. Its a highly popular language for scientific computing as well, the software written to get the first ever image of a black hole was written in Python! \n",
    "\n",
    "#### We're using a Jupyter Notebook to write our code and view output\n",
    "\n",
    "Python is really just the specific syntax of code, you can write it in a lot of different ways. We're going to work in this jupyter notebook. The jupyter notebook lets us combine code, regular text and output into one document. It's really useful if you're creating a document where you want other people to see the steps of a project you did and easily be able to understand/reproduce it. For that reason its often used in research projects. \n",
    "\n",
    "You may find later on you want to check out other ways to write python code, send it to your computer, and receive output. In that case you'll want to do a search for python IDEs (integrated development environment) to see all your options!\n",
    "\n",
    "<b>Let's check out how you type code and see output in jupyter notebook:</b>"
   ]
  },
  {
   "cell_type": "code",
   "execution_count": null,
   "metadata": {},
   "outputs": [],
   "source": [
    "3+3 "
   ]
  },
  {
   "cell_type": "markdown",
   "metadata": {},
   "source": [
    "So above the graybox is the input (i.e. the code you want to run) and when you click in the box and hit run you see the output, which in our case is the answer to the equation. Jupyter notebook automatically prints and the result of the last line of code. But not anything before it for example:"
   ]
  },
  {
   "cell_type": "code",
   "execution_count": null,
   "metadata": {},
   "outputs": [],
   "source": [
    "3+3\n",
    "1+2\n",
    "1+1"
   ]
  },
  {
   "cell_type": "code",
   "execution_count": null,
   "metadata": {},
   "outputs": [],
   "source": [
    "3+\n",
    "1+2\n",
    "1+1"
   ]
  },
  {
   "cell_type": "markdown",
   "metadata": {},
   "source": [
    "I gave it a bad first line because I told it to add 3 to .... and I left python hanging.  Python did not know what to do so it returns an error. It did not go on to run the later lines. It got an error and stopped. We can see in the error message it was at line 1 in our code box that our code went wrong and that its because of invalid syntax (I broke pythons grammer rules, if you give it an operator (i.e. the plus sign) you need to finish the equation so python knows what to add). So this shows us what happens when python gets an error with code and we can see it does run the first line even if we didn't see the output earlier.  \n",
    "\n",
    "If we wanted to see all the output we could use the function print(), to use the function we just put what we want printed inside the parentheses like this:"
   ]
  },
  {
   "cell_type": "code",
   "execution_count": null,
   "metadata": {},
   "outputs": [],
   "source": [
    "print(3+3)\n",
    "print(1+2)\n",
    "print(1+1)"
   ]
  },
  {
   "cell_type": "markdown",
   "metadata": {},
   "source": [
    "Now we know how to print multiple lines of ouput, but we may find we want python to remember the answer to these equations so that we can use them later. We'll do this using variables.  "
   ]
  },
  {
   "cell_type": "markdown",
   "metadata": {},
   "source": [
    "## Variables \n",
    "\n",
    "Variables are a way to tell python to remember something. A variable is just the name for a thing you want python to remember.  So I want python to remember the answers to the earlier equations I gave. To assign something to a variable name we just write the variable name and use the equal sign to tell python what it will remember that name as being equal to, this isn't terribly different from saving a file on your computer and naming that file, when you click that file name your computer knows you really want what is inside the file. For example: "
   ]
  },
  {
   "cell_type": "code",
   "execution_count": null,
   "metadata": {},
   "outputs": [],
   "source": [
    "x = 3+3\n",
    "y = 1+2\n",
    "z = 1+1"
   ]
  },
  {
   "cell_type": "markdown",
   "metadata": {},
   "source": [
    "Python isn't printing anything now, but it is remembering the answers to each equation under the variable names we assigned. We can see this because if we call any of these variables python will print the output:"
   ]
  },
  {
   "cell_type": "code",
   "execution_count": null,
   "metadata": {},
   "outputs": [],
   "source": [
    "x"
   ]
  },
  {
   "cell_type": "code",
   "execution_count": null,
   "metadata": {},
   "outputs": [],
   "source": [
    "y"
   ]
  },
  {
   "cell_type": "code",
   "execution_count": null,
   "metadata": {},
   "outputs": [],
   "source": [
    "z"
   ]
  },
  {
   "cell_type": "markdown",
   "metadata": {},
   "source": [
    "We can now make use of the letter variables in other equations and python will remember to treat x as equal to 6, y as equal to 3, and z as equal to 2."
   ]
  },
  {
   "cell_type": "code",
   "execution_count": null,
   "metadata": {},
   "outputs": [],
   "source": [
    "x+y "
   ]
  },
  {
   "cell_type": "code",
   "execution_count": null,
   "metadata": {},
   "outputs": [],
   "source": [
    "y+x+z"
   ]
  },
  {
   "cell_type": "code",
   "execution_count": null,
   "metadata": {},
   "outputs": [],
   "source": [
    "2*x + 3 * y +(y-z) "
   ]
  },
  {
   "cell_type": "markdown",
   "metadata": {},
   "source": [
    "An important thing to know about variables is that you CAN overwrite them and python will only remember the very last thing you said the variable is equal to:"
   ]
  },
  {
   "cell_type": "code",
   "execution_count": null,
   "metadata": {},
   "outputs": [],
   "source": [
    "test = 3\n",
    "test = 7\n",
    "test"
   ]
  },
  {
   "cell_type": "markdown",
   "metadata": {},
   "source": [
    "Look at the code below and think about what x will be equal to in the end. "
   ]
  },
  {
   "cell_type": "code",
   "execution_count": null,
   "metadata": {},
   "outputs": [],
   "source": [
    "x = 3\n",
    "y = 2\n",
    "x = y +x "
   ]
  },
  {
   "cell_type": "markdown",
   "metadata": {},
   "source": [
    "Run the next box to find out what x is "
   ]
  },
  {
   "cell_type": "code",
   "execution_count": null,
   "metadata": {},
   "outputs": [],
   "source": [
    "x"
   ]
  },
  {
   "cell_type": "markdown",
   "metadata": {},
   "source": [
    "Python can work with things other than numbers too. Until now we have been working with a data type called an integer in python, which are whole numbers that can be positive or negative but do not have a decimal place. We can check the type of element we're working with by using the type function: "
   ]
  },
  {
   "cell_type": "code",
   "execution_count": null,
   "metadata": {},
   "outputs": [],
   "source": [
    "type(x)"
   ]
  },
  {
   "cell_type": "markdown",
   "metadata": {},
   "source": [
    "<b>Floats</b>\n",
    "\n",
    "Python also has a data type called a float. These are real numbers that can have decimal places. Python knows that its working with a float as soon as you add a decimal place. "
   ]
  },
  {
   "cell_type": "code",
   "execution_count": null,
   "metadata": {},
   "outputs": [],
   "source": [
    "our_first_float = 3.3\n",
    "type(our_first_float)"
   ]
  },
  {
   "cell_type": "code",
   "execution_count": null,
   "metadata": {},
   "outputs": [],
   "source": [
    "can_you_be_a_float= 3\n",
    "type(can_you_be_a_float)"
   ]
  },
  {
   "cell_type": "markdown",
   "metadata": {},
   "source": [
    "If a number does not have a decimal place then python is going to work with it as an int.  If you want to have a float with the value of 3 you need to add a decimal and zero.  "
   ]
  },
  {
   "cell_type": "code",
   "execution_count": null,
   "metadata": {},
   "outputs": [],
   "source": [
    "please_be_a_float=3.0\n",
    "type(please_be_a_float)"
   ]
  },
  {
   "cell_type": "markdown",
   "metadata": {},
   "source": [
    "Because int types cannot have decimal places, Python will automatically calculate the output of a division as a float. This is really nice when you are dividing something that isn't an even division but python also does it when you're working with ints that divide evenly. "
   ]
  },
  {
   "cell_type": "code",
   "execution_count": null,
   "metadata": {},
   "outputs": [],
   "source": [
    "not_a_float = 3 \n",
    "print(type(not_a_float))"
   ]
  },
  {
   "cell_type": "code",
   "execution_count": null,
   "metadata": {},
   "outputs": [],
   "source": [
    "also_not_float = 6\n",
    "print(type(also_not_float))"
   ]
  },
  {
   "cell_type": "code",
   "execution_count": null,
   "metadata": {},
   "outputs": [],
   "source": [
    "is_a_float = 6/3 \n",
    "print(type(is_a_float))"
   ]
  },
  {
   "cell_type": "markdown",
   "metadata": {},
   "source": [
    "6 divided by 3 is 2 and doesn't require a decimal place but because the default for python 3 is to go to a float when you divide, is_a_float is a float. In addition, whenever you combine an int and a float in an equation python will ouput a float as the answer"
   ]
  },
  {
   "cell_type": "code",
   "execution_count": null,
   "metadata": {},
   "outputs": [],
   "source": [
    "type(3 + 3.3)"
   ]
  },
  {
   "cell_type": "markdown",
   "metadata": {},
   "source": [
    "<b> Strings </b>\n",
    "\n",
    "Python can also work with words and letters, we call any data type using characters a string in python. To let python know we're working with a string, we put the letters/word inside quotation marks (double or single).  The quotation marks lets python differentiate between a variable and a string.  "
   ]
  },
  {
   "cell_type": "code",
   "execution_count": null,
   "metadata": {},
   "outputs": [],
   "source": [
    "first_string = 'word'\n",
    "word = 'this is the variable called word'"
   ]
  },
  {
   "cell_type": "code",
   "execution_count": null,
   "metadata": {},
   "outputs": [],
   "source": [
    "print(first_string)\n",
    "type(first_string)"
   ]
  },
  {
   "cell_type": "code",
   "execution_count": null,
   "metadata": {},
   "outputs": [],
   "source": [
    "print(word)\n",
    "type(word)"
   ]
  },
  {
   "cell_type": "markdown",
   "metadata": {},
   "source": [
    "When we call for word without the quotations marks python is looking for the information saved as the variable called word.  \n",
    "\n",
    "Create two variables with your first and last name, called first_name and last_name respectively"
   ]
  },
  {
   "cell_type": "code",
   "execution_count": null,
   "metadata": {},
   "outputs": [],
   "source": [
    "first_name = 'Shannon'\n",
    "last_name = 'Hagerty'"
   ]
  },
  {
   "cell_type": "markdown",
   "metadata": {},
   "source": [
    "Python can do cool things with strings, we can add them together:"
   ]
  },
  {
   "cell_type": "code",
   "execution_count": null,
   "metadata": {},
   "outputs": [],
   "source": [
    "first_name + last_name"
   ]
  },
  {
   "cell_type": "markdown",
   "metadata": {},
   "source": [
    "But it adds them exactly together, so you may want to add another string with a space in between the two variables holding your name. "
   ]
  },
  {
   "cell_type": "code",
   "execution_count": null,
   "metadata": {},
   "outputs": [],
   "source": [
    "full_name = first_name + ' ' + last_name\n",
    "full_name"
   ]
  },
  {
   "cell_type": "markdown",
   "metadata": {},
   "source": [
    "The print function can also combine strings, you can separate strings by commas and the print statement will add a space automatically. "
   ]
  },
  {
   "cell_type": "code",
   "execution_count": null,
   "metadata": {},
   "outputs": [],
   "source": [
    "print('Hello,',full_name)"
   ]
  },
  {
   "cell_type": "markdown",
   "metadata": {},
   "source": [
    "We can also repeat strings by multiplying them with integers"
   ]
  },
  {
   "cell_type": "code",
   "execution_count": null,
   "metadata": {},
   "outputs": [],
   "source": [
    "excited = 'YAY'\n",
    "very_excited = excited * 10 \n",
    "very_excited"
   ]
  },
  {
   "cell_type": "markdown",
   "metadata": {},
   "source": [
    "<b> Why does data type matter? </b> "
   ]
  },
  {
   "cell_type": "markdown",
   "metadata": {},
   "source": [
    "Some operations require specific data types.  We can only repeat strings if we multiply by an integer. "
   ]
  },
  {
   "cell_type": "code",
   "execution_count": null,
   "metadata": {},
   "outputs": [],
   "source": [
    "excited * 10.0"
   ]
  },
  {
   "cell_type": "markdown",
   "metadata": {},
   "source": [
    "We can add two strings to each other but we cannot add a string and a float or a string and an integer (though we can add an integer and a float together!). This can be confusing but if you mess it up python lets you know pretty clearly where you went wrong. "
   ]
  },
  {
   "cell_type": "code",
   "execution_count": null,
   "metadata": {},
   "outputs": [],
   "source": [
    "excited + 3 "
   ]
  },
  {
   "cell_type": "code",
   "execution_count": null,
   "metadata": {
    "scrolled": true
   },
   "outputs": [],
   "source": [
    "excited + 3.0"
   ]
  },
  {
   "cell_type": "markdown",
   "metadata": {},
   "source": [
    "You also have the option to convert an element into a different type using the functions:  str(), int(), float()\n",
    "\n",
    "So if we really wanted the number 3 or 3.0 to be concatenated with our YAY statement: "
   ]
  },
  {
   "cell_type": "code",
   "execution_count": null,
   "metadata": {},
   "outputs": [],
   "source": [
    "excited + str(3)"
   ]
  },
  {
   "cell_type": "code",
   "execution_count": null,
   "metadata": {},
   "outputs": [],
   "source": [
    "excited + str(3.0)"
   ]
  },
  {
   "cell_type": "markdown",
   "metadata": {},
   "source": [
    "And if you wanted to be excited * 3.0: "
   ]
  },
  {
   "cell_type": "code",
   "execution_count": null,
   "metadata": {},
   "outputs": [],
   "source": [
    "excited * int(3.0)"
   ]
  },
  {
   "cell_type": "markdown",
   "metadata": {},
   "source": [
    "But just know that python is going to just take the whole number value of your float, it is not going to round: "
   ]
  },
  {
   "cell_type": "code",
   "execution_count": null,
   "metadata": {},
   "outputs": [],
   "source": [
    "int(3.7)"
   ]
  },
  {
   "cell_type": "markdown",
   "metadata": {},
   "source": [
    "Also we can't convert all strings to ints or floats. Letters/words cannot be converted into numbers (floats or ints): "
   ]
  },
  {
   "cell_type": "code",
   "execution_count": null,
   "metadata": {},
   "outputs": [],
   "source": [
    "float(excited)"
   ]
  },
  {
   "cell_type": "markdown",
   "metadata": {},
   "source": [
    "But if you have a numbers that exist as a string (you may do this if you have some set of numbers that you don't plan to use math on (e.g. an id number) "
   ]
  },
  {
   "cell_type": "code",
   "execution_count": null,
   "metadata": {},
   "outputs": [],
   "source": [
    "a_string_number = '2019'\n",
    "type(a_string_number)"
   ]
  },
  {
   "cell_type": "code",
   "execution_count": null,
   "metadata": {},
   "outputs": [],
   "source": [
    "type(float(a_string_number))"
   ]
  },
  {
   "cell_type": "code",
   "execution_count": null,
   "metadata": {},
   "outputs": [],
   "source": [
    "type(int(a_string_number))"
   ]
  },
  {
   "cell_type": "markdown",
   "metadata": {},
   "source": [
    "## Lists \n",
    "Lists are ordered collections of elements that we can change. "
   ]
  },
  {
   "cell_type": "markdown",
   "metadata": {},
   "source": [
    "A list in python is an ordered collection of elements.  We use square brackets [ ] to create lists, and put any elements (i.e. integer, string, floats, or a mix of these ) inside of the square brackets, separating each element by a comma.  See below I create my_grocery_list"
   ]
  },
  {
   "cell_type": "code",
   "execution_count": null,
   "metadata": {},
   "outputs": [],
   "source": [
    "my_grocery_list = ['lettuce', 'oatmeal', 'ice cream', 'cereal', 'bread']"
   ]
  },
  {
   "cell_type": "markdown",
   "metadata": {},
   "source": [
    "So now if I call my_grocery_list"
   ]
  },
  {
   "cell_type": "code",
   "execution_count": null,
   "metadata": {},
   "outputs": [],
   "source": [
    "my_grocery_list"
   ]
  },
  {
   "cell_type": "markdown",
   "metadata": {},
   "source": [
    "You can confirm that my_grocery_list is a list using type() again"
   ]
  },
  {
   "cell_type": "code",
   "execution_count": null,
   "metadata": {},
   "outputs": [],
   "source": [
    "type(my_grocery_list)"
   ]
  },
  {
   "cell_type": "markdown",
   "metadata": {},
   "source": [
    "The order of things in the list matters! We can use the order to call on specific elements in the list. The first item in a python list starts at 0"
   ]
  },
  {
   "cell_type": "code",
   "execution_count": null,
   "metadata": {},
   "outputs": [],
   "source": [
    "my_grocery_list[0]"
   ]
  },
  {
   "cell_type": "code",
   "execution_count": null,
   "metadata": {},
   "outputs": [],
   "source": [
    "my_grocery_list[1]"
   ]
  },
  {
   "cell_type": "code",
   "execution_count": null,
   "metadata": {},
   "outputs": [],
   "source": [
    "my_grocery_list[2]"
   ]
  },
  {
   "cell_type": "markdown",
   "metadata": {},
   "source": [
    "When we use the [ ] after the list name to call a specific item in the list based on its position, we call that indexing. How would you index 'bread' from the list? "
   ]
  },
  {
   "cell_type": "code",
   "execution_count": null,
   "metadata": {},
   "outputs": [],
   "source": []
  },
  {
   "cell_type": "markdown",
   "metadata": {},
   "source": [
    "We can also index for more than one item by specifying a range of items we want to print: "
   ]
  },
  {
   "cell_type": "code",
   "execution_count": null,
   "metadata": {},
   "outputs": [],
   "source": [
    "my_grocery_list[1:3]"
   ]
  },
  {
   "cell_type": "markdown",
   "metadata": {},
   "source": [
    "indexing this way called the element second element in the list (position 1) up to but NOT INCLUDING the item in position 3.  The last number in the range is always the first position you DO NOT want included. (I think about this as you tell python the first item you want, and then add the number of items you want to that number to get your end of range value)  \n",
    "\n",
    "Now try to come up with the call to index oatmeal, ice cream, and cereal from my_grocery_list"
   ]
  },
  {
   "cell_type": "code",
   "execution_count": null,
   "metadata": {},
   "outputs": [],
   "source": []
  },
  {
   "cell_type": "markdown",
   "metadata": {},
   "source": [
    "If you leave the value before or after the colon blank python will assume you want the index to go from the begining or all the way to the end. Examples:"
   ]
  },
  {
   "cell_type": "code",
   "execution_count": null,
   "metadata": {},
   "outputs": [],
   "source": [
    "my_grocery_list[1:]"
   ]
  },
  {
   "cell_type": "code",
   "execution_count": null,
   "metadata": {},
   "outputs": [],
   "source": [
    "my_grocery_list[:3]"
   ]
  },
  {
   "cell_type": "markdown",
   "metadata": {},
   "source": [
    "In python, lists are mutable which means we can make changes to them. For example, if we want to add something to the grocery list we can use the method append.\n",
    "\n",
    "Methods are functions that are specific to a type of object (You can check out the list of methods here https://docs.python.org/3/tutorial/datastructures.html#). Note this is another time it matters what the variable type is, methods associated with lists will work with lists and only lists. Strings, ints, and floats have their own methods too. \n",
    "\n",
    "Methods are added to the end of the list name with a period separating the list name and method name.  Inside the parentheses we put the element we want to add.  We need to add 'apples' to our list so we'll do it like this: "
   ]
  },
  {
   "cell_type": "code",
   "execution_count": null,
   "metadata": {},
   "outputs": [],
   "source": [
    "my_grocery_list.append('apples')"
   ]
  },
  {
   "cell_type": "markdown",
   "metadata": {},
   "source": [
    "Now when we print our grocery list we will see apples added to the end. "
   ]
  },
  {
   "cell_type": "code",
   "execution_count": null,
   "metadata": {},
   "outputs": [],
   "source": [
    "my_grocery_list"
   ]
  },
  {
   "cell_type": "markdown",
   "metadata": {},
   "source": [
    "Try adding your favorite food to the list, be sure to call my_grocery_list to see that the item was added "
   ]
  },
  {
   "cell_type": "code",
   "execution_count": null,
   "metadata": {},
   "outputs": [],
   "source": []
  },
  {
   "cell_type": "markdown",
   "metadata": {},
   "source": [
    "You can delete an item from the list by using del.  We'll delete the first item from the list (we don't need to get lettuce anymore. "
   ]
  },
  {
   "cell_type": "code",
   "execution_count": null,
   "metadata": {},
   "outputs": [],
   "source": [
    "del my_grocery_list[0]\n",
    "print(my_grocery_list)"
   ]
  },
  {
   "cell_type": "markdown",
   "metadata": {},
   "source": [
    "Now that we've deleted one item the positions of all the other items are different in the list. Can you index your favorite food item now?"
   ]
  },
  {
   "cell_type": "code",
   "execution_count": null,
   "metadata": {},
   "outputs": [],
   "source": []
  },
  {
   "cell_type": "markdown",
   "metadata": {},
   "source": [
    "We can't get your favorite food anymore.  Please delete it from the list. "
   ]
  },
  {
   "cell_type": "code",
   "execution_count": null,
   "metadata": {},
   "outputs": [],
   "source": []
  },
  {
   "cell_type": "markdown",
   "metadata": {},
   "source": [
    "FUN FACT: You can index strings just like you indext lists.  (Because what is a word if not basically list of letters, right?) "
   ]
  },
  {
   "cell_type": "code",
   "execution_count": null,
   "metadata": {},
   "outputs": [],
   "source": [
    "sentence = 'A string can be similar to a list of letters and spaces'\n",
    "\n",
    "sentence[2:8]"
   ]
  },
  {
   "cell_type": "markdown",
   "metadata": {},
   "source": [
    "How would you index the word 'similar' from our sentence variable? (Note: spaces count as a position, so you want to count the number of letters and spaces starting at 'A' as position 0, to get the starting position of 'similar'. Your end range will be the start position + 7  because 'similar' has 7 letters we want to extract) "
   ]
  },
  {
   "cell_type": "code",
   "execution_count": null,
   "metadata": {},
   "outputs": [],
   "source": []
  },
  {
   "cell_type": "markdown",
   "metadata": {},
   "source": [
    "## For Loops "
   ]
  },
  {
   "cell_type": "markdown",
   "metadata": {},
   "source": [
    "You'll find you often want to do a certain thing to each item in the list, for example I may want to print a message telling myself to buy each item on the list. I could do it like this:"
   ]
  },
  {
   "cell_type": "code",
   "execution_count": null,
   "metadata": {},
   "outputs": [],
   "source": [
    "print('You need to buy',my_grocery_list[0])\n",
    "print('You need to buy',my_grocery_list[1])\n",
    "print('You need to buy',my_grocery_list[2])\n",
    "print('You need to buy',my_grocery_list[3])"
   ]
  },
  {
   "cell_type": "markdown",
   "metadata": {},
   "source": [
    "But that was a lot of typing of mostly the same thing. And this is a short list, it would be much more annoying if the list was longer. Generally if you find you are repeating yourself a lot while coding there is probably a better way to write the code! In this case it's better if we use a For Loop. "
   ]
  },
  {
   "cell_type": "code",
   "execution_count": null,
   "metadata": {},
   "outputs": [],
   "source": [
    "for item in my_grocery_list:\n",
    "    print('You need to buy',item)"
   ]
  },
  {
   "cell_type": "markdown",
   "metadata": {},
   "source": [
    "Here are the important things to know about using a for loop in python.  \n",
    "\n",
    "In the for loop for the grocery list the word item is just a place holder, we could change that to anything else and the for loop would operate the same way. The first time in the loop item is equal to the first thing in our list (i.e. oatmeal), after it does what we tell it to do with oatmeal (which is print you need to buy oatmeal) python starts the action again making item equal to the second element in the list ('ice cream'). \n",
    "\n",
    "We can use any word or letter we want as the placeholder and python will do the same thing. See below"
   ]
  },
  {
   "cell_type": "code",
   "execution_count": null,
   "metadata": {},
   "outputs": [],
   "source": [
    "for cactus in my_grocery_list:\n",
    "    print('You need to buy',cactus)"
   ]
  },
  {
   "cell_type": "markdown",
   "metadata": {},
   "source": [
    "So in the first line we need to start by typing <b>for</b> then we include a <b>placholder variable</b> and then say <b>in</b> followed by your <b>collection of things</b> (we're using a list as our collection of things right now). Then you end the first line with a <b>colon</b>.\n",
    "\n",
    "Now you're ready to type the instructions of your for loop in the following lines. Python knows the lines you want repeated for each item because it comes after the colon AND its indented. The indent is important. If you do not indent they python will not know what is supposed to happen in the for loop and you will get an error. "
   ]
  },
  {
   "cell_type": "code",
   "execution_count": null,
   "metadata": {},
   "outputs": [],
   "source": [
    "for item in my_grocery_list:\n",
    "print('You need to buy',item)"
   ]
  },
  {
   "cell_type": "markdown",
   "metadata": {},
   "source": [
    "Luckily the error makes it pretty clear what went wrong.  \n",
    "\n",
    "Python is going to repeat every line that follows the colon AND is indented. If a line follows but is not indented python will only run it once after it has gone over every element in your collection of things, or in this example every item in my_grocery_list. "
   ]
  },
  {
   "cell_type": "code",
   "execution_count": null,
   "metadata": {},
   "outputs": [],
   "source": [
    "for item in my_grocery_list:\n",
    "    print('You need to buy',item)\n",
    "    print('inside the loop')\n",
    "print('OUTSIDE THE LOOP')"
   ]
  },
  {
   "cell_type": "markdown",
   "metadata": {},
   "source": [
    "See in the for loop above the text inside the loop was printed as many times as there are items in my_grocery_list while the text that was in the print statement and NOT indented was only printed one time because it is NOT part of the for loop. \n",
    "\n",
    "Sometimes you'll want to go over every item in your list and also find out or use its position in the list. In that case you use the enumerate function. You're going to make two changes to your basic for loop, first you will now have two placeholders the first one is going to hold the index number and the second placeholder has the actual object from the list (i.e. our item in the grocery list)"
   ]
  },
  {
   "cell_type": "code",
   "execution_count": null,
   "metadata": {},
   "outputs": [],
   "source": [
    "for index, item in enumerate(my_grocery_list):\n",
    "    print(item,'is in position', index)"
   ]
  },
  {
   "cell_type": "markdown",
   "metadata": {},
   "source": [
    "So we've looped through some lists! You can loop through other things too. For example, you can loop through strings! When you loop over a string the for loops will make the placeholder equivalent to each letter. "
   ]
  },
  {
   "cell_type": "code",
   "execution_count": null,
   "metadata": {
    "scrolled": true
   },
   "outputs": [],
   "source": [
    "for letter in 'bananas':\n",
    "    print(letter)"
   ]
  },
  {
   "cell_type": "markdown",
   "metadata": {},
   "source": [
    "Try printing out the letters and their position in the word Mississippi using a for loop. "
   ]
  },
  {
   "cell_type": "code",
   "execution_count": null,
   "metadata": {},
   "outputs": [],
   "source": []
  },
  {
   "cell_type": "markdown",
   "metadata": {},
   "source": [
    "## Put it all together: Say Hello to your friends "
   ]
  },
  {
   "cell_type": "markdown",
   "metadata": {},
   "source": [
    "1. Create a list of four friends names and assign it the name my_friends"
   ]
  },
  {
   "cell_type": "code",
   "execution_count": null,
   "metadata": {},
   "outputs": [],
   "source": []
  },
  {
   "cell_type": "markdown",
   "metadata": {},
   "source": [
    "2. Use a for loop to go thru your list my_friends and print 'Hello,' + name for each friend"
   ]
  },
  {
   "cell_type": "code",
   "execution_count": null,
   "metadata": {},
   "outputs": [],
   "source": []
  },
  {
   "cell_type": "markdown",
   "metadata": {},
   "source": [
    "3. The second friend in your list has changed their name to Meatball, reassign the second name in your list to reflect this change"
   ]
  },
  {
   "cell_type": "code",
   "execution_count": null,
   "metadata": {},
   "outputs": [],
   "source": []
  },
  {
   "cell_type": "markdown",
   "metadata": {},
   "source": [
    "4. You're popular and made a new friend named 'James Bond' append this name to the list"
   ]
  },
  {
   "cell_type": "code",
   "execution_count": null,
   "metadata": {},
   "outputs": [],
   "source": []
  },
  {
   "cell_type": "markdown",
   "metadata": {},
   "source": [
    "5. Excellent! Before we move on to the next section, say goodbye to each of your friends. When you are done saying goodbye, print 'That's all folks!'.   "
   ]
  },
  {
   "cell_type": "code",
   "execution_count": null,
   "metadata": {},
   "outputs": [],
   "source": []
  },
  {
   "cell_type": "markdown",
   "metadata": {},
   "source": [
    "<b> Bonus Challenges </b>\n",
    "\n",
    "1. Create a list of last week's daily temperatures in Farenheit and then let's use those values to create another list with equivalent values in Celsius. You'll want to create an empty list called celsius first, to create an empty list you just leave the square brackets empty. Do this with a for loop, plugging each temperature value into the conversion equation below and calculating a new variable equal to the degrees in celsius. Then add (append) that new variable to the celsius list.  \n",
    "\n",
    "$$celsius = (farenheit - 32)\\times \\frac{5}{9}$$"
   ]
  },
  {
   "cell_type": "code",
   "execution_count": null,
   "metadata": {},
   "outputs": [],
   "source": []
  },
  {
   "cell_type": "markdown",
   "metadata": {},
   "source": [
    "2. Below you have a list of friends' phone numbers, and you're interested in how many different regions your friends are from, so you want to extract the area code from each of the numbers. Then you want to add them to another list of area codes. (Hint: pay attention to the data type in the list) "
   ]
  },
  {
   "cell_type": "code",
   "execution_count": null,
   "metadata": {},
   "outputs": [],
   "source": [
    "friends_numbers = [4018887733, 5086667321, 8068871234, 4067779876, 3034443333]\n",
    "friends_area_codes = []\n",
    "\n"
   ]
  },
  {
   "cell_type": "markdown",
   "metadata": {},
   "source": [
    "Note: Out of the workshop and having trouble doing the bonus challenges? Please send me an email or make an appointment, I'm happy to help!"
   ]
  },
  {
   "cell_type": "markdown",
   "metadata": {},
   "source": [
    "### What should you do next? \n",
    "\n",
    "Download python version 3 with the anaconda distribution this downloads python 3 on your computer including many of the libraries of code that are commonly used in data science.\n",
    "\n",
    "https://www.anaconda.com/distribution/#download-section\n",
    "\n",
    "Come to the next python workshop! Check out the library calendar for future workshops: \n",
    "\n",
    "https://bit.ly/2ZzqpbV"
   ]
  }
 ],
 "metadata": {
  "kernelspec": {
   "display_name": "Python 3",
   "language": "python",
   "name": "python3"
  },
  "language_info": {
   "codemirror_mode": {
    "name": "ipython",
    "version": 3
   },
   "file_extension": ".py",
   "mimetype": "text/x-python",
   "name": "python",
   "nbconvert_exporter": "python",
   "pygments_lexer": "ipython3",
   "version": "3.7.2"
  }
 },
 "nbformat": 4,
 "nbformat_minor": 2
}
