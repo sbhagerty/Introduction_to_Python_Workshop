{
 "cells": [
  {
   "cell_type": "markdown",
   "metadata": {},
   "source": [
    "# Introduction to Python\n",
    "## Part 2: Booleans, If statements, and functions"
   ]
  },
  {
   "cell_type": "markdown",
   "metadata": {},
   "source": [
    "\n",
    "## Booleans in python\n",
    "\n",
    "In the first part of the workshop we learned about Python data types: string, int, and floats.  Now we're going to learn about the Boolean data type. There are only two Boolean data types True and False.    "
   ]
  },
  {
   "cell_type": "code",
   "execution_count": null,
   "metadata": {},
   "outputs": [],
   "source": [
    "type(True)"
   ]
  },
  {
   "cell_type": "code",
   "execution_count": null,
   "metadata": {},
   "outputs": [],
   "source": [
    "type(False)"
   ]
  },
  {
   "cell_type": "markdown",
   "metadata": {},
   "source": [
    "We don't use quotes around the words True and False when we are using it as a boolean.  In fact if you use quotes around the word then python will treat it as just a string.  "
   ]
  },
  {
   "cell_type": "code",
   "execution_count": null,
   "metadata": {},
   "outputs": [],
   "source": [
    "type('True')"
   ]
  },
  {
   "cell_type": "markdown",
   "metadata": {},
   "source": [
    "Also note you have to have the first letter capitalized and the remaining letters lower case"
   ]
  },
  {
   "cell_type": "code",
   "execution_count": null,
   "metadata": {},
   "outputs": [],
   "source": [
    "true"
   ]
  },
  {
   "cell_type": "code",
   "execution_count": null,
   "metadata": {},
   "outputs": [],
   "source": [
    "FALSE"
   ]
  },
  {
   "cell_type": "code",
   "execution_count": null,
   "metadata": {},
   "outputs": [],
   "source": [
    "False"
   ]
  },
  {
   "cell_type": "markdown",
   "metadata": {},
   "source": [
    "Booleans get returned if you want to compare things. Is 3 greater than 4? "
   ]
  },
  {
   "cell_type": "code",
   "execution_count": null,
   "metadata": {},
   "outputs": [],
   "source": [
    "3 > 4"
   ]
  },
  {
   "cell_type": "markdown",
   "metadata": {},
   "source": [
    "No, is 3 less than 4? "
   ]
  },
  {
   "cell_type": "code",
   "execution_count": null,
   "metadata": {},
   "outputs": [],
   "source": [
    "3 < 4"
   ]
  },
  {
   "cell_type": "markdown",
   "metadata": {},
   "source": [
    "We can also check to see if 3 is equal to 4. We use a double equal sign when we are asking Python to compare two things to see if they are equal. (Remember: A single = would mean you wanted to assign the thing on the right to the variable name on the left)."
   ]
  },
  {
   "cell_type": "code",
   "execution_count": null,
   "metadata": {},
   "outputs": [],
   "source": [
    "3 == 4"
   ]
  },
  {
   "cell_type": "code",
   "execution_count": null,
   "metadata": {},
   "outputs": [],
   "source": [
    "4 == 4"
   ]
  },
  {
   "cell_type": "markdown",
   "metadata": {},
   "source": [
    "You can also use booleans on strings.  In this case its going to compare things alphabetically.  "
   ]
  },
  {
   "cell_type": "code",
   "execution_count": null,
   "metadata": {},
   "outputs": [],
   "source": [
    "'A' < 'B'"
   ]
  },
  {
   "cell_type": "code",
   "execution_count": null,
   "metadata": {},
   "outputs": [],
   "source": [
    "'B'>'C'"
   ]
  },
  {
   "cell_type": "markdown",
   "metadata": {},
   "source": [
    "The one place string comparison gets weird is when you compare upper and lower case values.  Lowercase values are greater than upppercase.  So python would put Z before a, see: "
   ]
  },
  {
   "cell_type": "code",
   "execution_count": null,
   "metadata": {},
   "outputs": [],
   "source": [
    "'a'>'A'"
   ]
  },
  {
   "cell_type": "code",
   "execution_count": null,
   "metadata": {},
   "outputs": [],
   "source": [
    "'Z'<'a'"
   ]
  },
  {
   "cell_type": "markdown",
   "metadata": {},
   "source": [
    "## If/Else Statements\n",
    "\n",
    "Booleans are especially useful when used with the if and else statements in python. IF statements say If <b>thing</b> is true then do this action, and if the thing is not true then you do not do the action. "
   ]
  },
  {
   "cell_type": "code",
   "execution_count": null,
   "metadata": {},
   "outputs": [],
   "source": [
    "if 5 > 4:\n",
    "    print(\"YES\")"
   ]
  },
  {
   "cell_type": "code",
   "execution_count": null,
   "metadata": {},
   "outputs": [],
   "source": [
    "if 3 > 4:\n",
    "    print(\"YES\")"
   ]
  },
  {
   "cell_type": "markdown",
   "metadata": {},
   "source": [
    "When the statement after if was true, python did the thing we asked afterwards.  When the statement is false it does nothing.  Also note the set up for an if statement is similar in some ways to writing a for loop.  You have your first if statement then a colon and then on a new line with and indent you add your statement.  Just like in a for loop the indent is important.  The indented actions are the only things whose execution depends on the if statement\" being true.  See below: "
   ]
  },
  {
   "cell_type": "code",
   "execution_count": null,
   "metadata": {},
   "outputs": [],
   "source": [
    "if 5 > 4:\n",
    "    print(\"YES\")\n",
    "print(\"Not in the if statement\")"
   ]
  },
  {
   "cell_type": "code",
   "execution_count": null,
   "metadata": {},
   "outputs": [],
   "source": [
    "if 3 > 4:\n",
    "    print(\"YES\")\n",
    "print(\"Not in the if statement\")"
   ]
  },
  {
   "cell_type": "markdown",
   "metadata": {},
   "source": [
    "See the unindented statement is not part of the if statement and will run either way.  Indenting is important! \n",
    "\n",
    "A lot of the times you will also want to do something given your codition is not true.  "
   ]
  },
  {
   "cell_type": "code",
   "execution_count": null,
   "metadata": {},
   "outputs": [],
   "source": [
    "#the input function creates a box that takes user input, \n",
    "#whatever you type into the box will be assigned to the variable name answer for the if statement\n",
    "\n",
    "answer=input('Are dogs better than cats? Y/N : ') \n",
    "if answer == \"Y\":\n",
    "    print('You are a dog person')\n",
    "else:\n",
    "    print('You are a cat person')"
   ]
  },
  {
   "cell_type": "markdown",
   "metadata": {},
   "source": [
    "Note that again, whitespace is important here. The else statement needs to be outside the if statement (not indented)."
   ]
  },
  {
   "cell_type": "code",
   "execution_count": null,
   "metadata": {},
   "outputs": [],
   "source": [
    "answer=input('Are dogs better than cats? Y/N : ')\n",
    "\n",
    "if answer == \"Y\":\n",
    "    print('You are a dog person')\n",
    "    else:\n",
    "    print('You are a cat person')"
   ]
  },
  {
   "cell_type": "markdown",
   "metadata": {},
   "source": [
    "Try rerunning the box below again and change your answer.  The question prompts you to put Y or N indicating Yes or no.  What happens if you put something else entirely.  "
   ]
  },
  {
   "cell_type": "code",
   "execution_count": null,
   "metadata": {},
   "outputs": [],
   "source": [
    "#the input function creates a box that takes user input, \n",
    "#whatever you type into the box will be assigned to the variable name answer for the if statement\n",
    "\n",
    "answer=input('Are dogs better than cats? Y/N : ') \n",
    "if answer == \"Y\":\n",
    "    print('You are a dog person')\n",
    "else:\n",
    "    print('You are a cat person')"
   ]
  },
  {
   "cell_type": "markdown",
   "metadata": {},
   "source": [
    "Our if statement prints the statement \"You are a cat person\" if you put anything other than Y in the input box.  This may not be what we want as anyone who typed Yes or just typed gibberish into the input box would get that answer.  We probably want a third option that can let someone know they haven't set a valid answer. "
   ]
  },
  {
   "cell_type": "code",
   "execution_count": null,
   "metadata": {
    "scrolled": true
   },
   "outputs": [],
   "source": [
    "answer=input('Are dogs better than cats? Y/N : ')\n",
    "if answer == \"Y\":\n",
    "    print('You are a dog person')\n",
    "elif answer == \"N\":\n",
    "    print('You are a cat person')\n",
    "else:\n",
    "    print('Your response must be Y or N')"
   ]
  },
  {
   "cell_type": "markdown",
   "metadata": {},
   "source": [
    "Another way to accomplish the same thing is to set multiple conditions in the if statement.  For example we may first want to check if the answer the user put in is Y or N, if it is not then we want to pring the \"Your response must be Y or N\" statement right away. "
   ]
  },
  {
   "cell_type": "code",
   "execution_count": null,
   "metadata": {},
   "outputs": [],
   "source": [
    "answer=input('Are dogs better than cats? Y/N : ')\n",
    "\n",
    "## != means not equal so the if statement is checking to be sure answer is NOT EQUAL to Y and is != to N \n",
    "# when you have an and in between two conditions both statements must be True \n",
    "# for the overall if statement to evaluate to true and have the action in the if statement performed. \n",
    "# This has the same result as the if statement we made just before this, there is more than one way to do things!\n",
    "if answer != \"Y\" and answer != \"N\": \n",
    "    print('Your response msut be Y or N')\n",
    "elif answer == \"Y\":\n",
    "    print('You are a dog person')\n",
    "else: \n",
    "    print('Your are a cat person')\n",
    "    "
   ]
  },
  {
   "cell_type": "markdown",
   "metadata": {},
   "source": [
    "##### EXERCISE: If statements  \n",
    "\n",
    "1. create a variable x and assign a number to it. "
   ]
  },
  {
   "cell_type": "code",
   "execution_count": null,
   "metadata": {},
   "outputs": [],
   "source": [
    "#create variable"
   ]
  },
  {
   "cell_type": "markdown",
   "metadata": {},
   "source": [
    "2. Write a boolean statement to see if x is divisible by 2. In Python you can use the % operator to check if something is evenly divisible by another number. This operator returns the remainder of the division. \n",
    "\n",
    "3 % 2 returns 1\n",
    "\n",
    "8 % 2 returns 0 \n",
    "\n",
    "7 % 2 returns 1\n",
    "\n",
    "6 % 2 returns 0 "
   ]
  },
  {
   "cell_type": "code",
   "execution_count": null,
   "metadata": {},
   "outputs": [],
   "source": [
    "#write conditional statement"
   ]
  },
  {
   "cell_type": "markdown",
   "metadata": {},
   "source": [
    "3. Now write an if statement using that boolean statement. If x is evenly divisible by 2 print the statement 'X is an even number' if not then print the statement 'X is an odd number'\n",
    "*Bonus* Use string concatenation to print the actual number of x "
   ]
  },
  {
   "cell_type": "code",
   "execution_count": null,
   "metadata": {},
   "outputs": [],
   "source": [
    "# write if statement"
   ]
  },
  {
   "cell_type": "markdown",
   "metadata": {},
   "source": [
    "## Writing your own functions\n",
    "\n",
    "Writing functions is an easy way to re-use code.  For example if we find that we often want to check to see if a number is even or not we may want to write a function so we can put in any number and find out if it is even or not. \n",
    "\n",
    "The set up is that we first use the python keyword *def* to let python know we're defining our function.  Then we name our funciton, then we add parentheses and inside the parentheses we put the input variable. After the parentheses we use a colon to let python know that the following will be what the function actually does. This is going to be similar to if and else statements, where whitespace matters.  You need to indent the line after you define your function.  The indent makes it clear what is inside the function. Our funciton uses if and else to print that x is an even or odd number. "
   ]
  },
  {
   "cell_type": "code",
   "execution_count": null,
   "metadata": {},
   "outputs": [],
   "source": [
    "def is_even(x):\n",
    "    if x % 2 == 0:\n",
    "        print(str(x)+' is an even number.')\n",
    "    else: \n",
    "        print(str(x) + ' is an odd number.')"
   ]
  },
  {
   "cell_type": "markdown",
   "metadata": {},
   "source": [
    "Now when we want to use the function we can just put a new number inside the parentheses and the function will run filling that value in for x, and printing if it is even or odd.    "
   ]
  },
  {
   "cell_type": "code",
   "execution_count": null,
   "metadata": {},
   "outputs": [],
   "source": [
    "is_even(3)"
   ]
  },
  {
   "cell_type": "code",
   "execution_count": null,
   "metadata": {},
   "outputs": [],
   "source": [
    "is_even(28)"
   ]
  },
  {
   "cell_type": "markdown",
   "metadata": {},
   "source": [
    "We can make our function even more flexible by adding another variable. In our first function we were just checking if the number is even or not by checking to see if it is evenly divisible by two. We may want to see if a number x is evenly divisible by some other number, so we'll want to add another variable so we can set the number we're checking against.  "
   ]
  },
  {
   "cell_type": "code",
   "execution_count": null,
   "metadata": {},
   "outputs": [],
   "source": [
    "def is_divisible(x,y):\n",
    "    if x % y == 0:\n",
    "        print(str(x)+' is evenly divisible by '+str(y))\n",
    "    else:\n",
    "        print(str(x)+' is not evenly divisible by '+str(y))"
   ]
  },
  {
   "cell_type": "code",
   "execution_count": null,
   "metadata": {},
   "outputs": [],
   "source": [
    "is_divisible(3,2)"
   ]
  },
  {
   "cell_type": "code",
   "execution_count": null,
   "metadata": {},
   "outputs": [],
   "source": [
    "is_divisible(28,2)"
   ]
  },
  {
   "cell_type": "code",
   "execution_count": null,
   "metadata": {},
   "outputs": [],
   "source": [
    "is_divisible(44,11)"
   ]
  },
  {
   "cell_type": "code",
   "execution_count": null,
   "metadata": {},
   "outputs": [],
   "source": [
    "is_divisible(11,7)"
   ]
  },
  {
   "cell_type": "markdown",
   "metadata": {},
   "source": [
    "How will we remember what our function does and what arguments it needs? We need to add something to our function called docstrings. Docstrings are where we describe details about the function like what its desired output is and what arguments it uses. You can write docstrings by using \"\"\" three quotation marks surrounding the text with the necessary information about your function. "
   ]
  },
  {
   "cell_type": "code",
   "execution_count": null,
   "metadata": {},
   "outputs": [],
   "source": [
    "def is_divisible(x,y):\n",
    "    \"\"\"\n",
    "    This function takes an input x and checks to see if it is evenly divisible by y. \n",
    "    It prints a statement if x is evenly divisible by y or not.\n",
    "    \"\"\"\n",
    "    if x % y == 0:\n",
    "        print(str(x)+' is evenly divisible by '+str(y))\n",
    "    else:\n",
    "        print(str(x)+' is not evenly divisible by '+str(y))"
   ]
  },
  {
   "cell_type": "markdown",
   "metadata": {},
   "source": [
    "If you've written docstrings you can now access them using the help() in python and putting your function name inside. For example: "
   ]
  },
  {
   "cell_type": "code",
   "execution_count": null,
   "metadata": {},
   "outputs": [],
   "source": [
    "help(is_divisible)"
   ]
  },
  {
   "cell_type": "markdown",
   "metadata": {},
   "source": [
    "In the functions we just wrote we wanted python to print a statement.  But often you'll want to calculate a new value and be able to assign that value to a new variable. For example if we want to write a function that converts between Celsius and farenheit, we'll want to input a Farenheit value and return a Celsius value.  \n",
    "\n",
    "$$celsius = (farenheit - 32)\\times \\frac{5}{9}$$\n",
    "\n",
    "in this case we add a return() at the end of our function.  "
   ]
  },
  {
   "cell_type": "code",
   "execution_count": null,
   "metadata": {},
   "outputs": [],
   "source": [
    "def F_to_C(F):\n",
    "    \"\"\"\n",
    "    Takes a temperature value in Farenheit and returns the corresponding value in Celsius\n",
    "    \"\"\"\n",
    "    return((F-32)*(5/9))"
   ]
  },
  {
   "cell_type": "code",
   "execution_count": null,
   "metadata": {},
   "outputs": [],
   "source": [
    "temp= F_to_C(100)\n",
    "temp"
   ]
  },
  {
   "cell_type": "markdown",
   "metadata": {},
   "source": [
    "#### EXERCISE: Can you write a function that converts miles to kilometers?\n",
    "\n",
    "1 mile is equal to 1.609 km "
   ]
  },
  {
   "cell_type": "code",
   "execution_count": null,
   "metadata": {},
   "outputs": [],
   "source": [
    "# write function to convert from miles to kilometers"
   ]
  },
  {
   "cell_type": "code",
   "execution_count": null,
   "metadata": {},
   "outputs": [],
   "source": [
    "# test function with input"
   ]
  },
  {
   "cell_type": "markdown",
   "metadata": {},
   "source": [
    "## Using Python Libraries "
   ]
  },
  {
   "cell_type": "markdown",
   "metadata": {},
   "source": [
    "We've already used a lot of built-in functions in python like print(), type(), str(), input()\n",
    "\n",
    "But there's a whole lot more code out there ready for you to use. In python we can import libraries, collections of pre-written functions usually focused around some theme/function, to expand our toolset.  \n",
    "\n",
    "We use the import keyword and follow it by the library name. Below we'll import the python library *random* which includes functions that can make random sample selections.   "
   ]
  },
  {
   "cell_type": "code",
   "execution_count": null,
   "metadata": {},
   "outputs": [],
   "source": [
    "import random"
   ]
  },
  {
   "cell_type": "markdown",
   "metadata": {},
   "source": [
    "When you successfully import a library the jupyter notebook executes the cell without any output.  \n",
    "\n",
    "You can get more information about the library you imported by using the help function.  Inside the help output you'll also get a link to the online documentation that can include tutorials and examples on how to use the library. "
   ]
  },
  {
   "cell_type": "code",
   "execution_count": null,
   "metadata": {},
   "outputs": [],
   "source": [
    "help(random)"
   ]
  },
  {
   "cell_type": "markdown",
   "metadata": {},
   "source": [
    "When we want to access a function in the library we use dot notation.  We first put the library_name.function_name().  We're going to use random.choices()now, you can use help() to get more information on it. "
   ]
  },
  {
   "cell_type": "code",
   "execution_count": null,
   "metadata": {
    "scrolled": false
   },
   "outputs": [],
   "source": [
    "help(random.choices)"
   ]
  },
  {
   "cell_type": "markdown",
   "metadata": {},
   "source": [
    "The function will take a list and return one of the items in the list via random selection. If we want to choose heads or tails randomly we can create a list of choices. Then add that list as the argument to random.choices. See below:  "
   ]
  },
  {
   "cell_type": "code",
   "execution_count": null,
   "metadata": {},
   "outputs": [],
   "source": [
    "choices = ['head', 'tails']"
   ]
  },
  {
   "cell_type": "code",
   "execution_count": null,
   "metadata": {},
   "outputs": [],
   "source": [
    "random.choice(choices)"
   ]
  },
  {
   "cell_type": "markdown",
   "metadata": {},
   "source": [
    "There are libraries for all kinds of tasks in Python and you'll use them a lot! "
   ]
  },
  {
   "cell_type": "markdown",
   "metadata": {},
   "source": [
    "#### EXERCISE: Write a coin flip function\n",
    "\n",
    "Input should be your choice of 'heads' or 'tails' \n",
    "\n",
    "If your choice matches the random choice, print that you win, otherwise print that you lose."
   ]
  },
  {
   "cell_type": "code",
   "execution_count": null,
   "metadata": {},
   "outputs": [],
   "source": [
    "#Write a coin flip function!"
   ]
  },
  {
   "cell_type": "code",
   "execution_count": null,
   "metadata": {},
   "outputs": [],
   "source": [
    "#Test your coin flip function!"
   ]
  },
  {
   "cell_type": "markdown",
   "metadata": {},
   "source": [
    "#### BONUS EXERCISE \n",
    "\n",
    "Write a rock_paper_scissors game. Have the input be the user's move (i.e. rock, paper, or scissors).  Include an if statement that will tell the user they have not input a valid move. Use the random.choice function to select a computer move and print who wins the game based on the user move and computer move.  "
   ]
  },
  {
   "cell_type": "code",
   "execution_count": null,
   "metadata": {},
   "outputs": [],
   "source": [
    "# Write a function to play rock paper scissors with the computer!"
   ]
  },
  {
   "cell_type": "code",
   "execution_count": null,
   "metadata": {},
   "outputs": [],
   "source": [
    "#Test your function"
   ]
  }
 ],
 "metadata": {
  "kernelspec": {
   "display_name": "Python 3",
   "language": "python",
   "name": "python3"
  },
  "language_info": {
   "codemirror_mode": {
    "name": "ipython",
    "version": 3
   },
   "file_extension": ".py",
   "mimetype": "text/x-python",
   "name": "python",
   "nbconvert_exporter": "python",
   "pygments_lexer": "ipython3",
   "version": "3.7.2"
  }
 },
 "nbformat": 4,
 "nbformat_minor": 2
}
